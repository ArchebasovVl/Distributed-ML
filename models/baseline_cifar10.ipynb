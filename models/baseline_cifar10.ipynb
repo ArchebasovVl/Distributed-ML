{
  "cells": [
    {
      "cell_type": "code",
      "execution_count": 1,
      "metadata": {
        "id": "y5XMU-4eK9bj"
      },
      "outputs": [],
      "source": [
        "import torch\n",
        "import torch.nn as nn\n",
        "import torch.optim as optim\n",
        "from torch.utils.data import DataLoader\n",
        "from torchvision import models, datasets\n",
        "from torchvision.transforms import v2 as transforms\n",
        "import matplotlib.pyplot as plt\n",
        "from sklearn.metrics import precision_score, recall_score"
      ]
    },
    {
      "cell_type": "code",
      "execution_count": null,
      "metadata": {
        "colab": {
          "base_uri": "https://localhost:8080/"
        },
        "id": "G7iPs0NiM36j",
        "outputId": "f22a9da2-898e-4139-e225-e4318025bac9"
      },
      "outputs": [],
      "source": [
        "torch.cuda.is_available()"
      ]
    },
    {
      "cell_type": "code",
      "execution_count": 4,
      "metadata": {
        "id": "s4NA-nBmLs-C"
      },
      "outputs": [],
      "source": [
        "transform_test = transforms.Compose([\n",
        "    transforms.ToImage(),\n",
        "    transforms.ToDtype(torch.float32, scale=True),\n",
        "    transforms.Normalize(mean=[0.485, 0.456, 0.406], std=[0.229, 0.224, 0.225]),\n",
        "])\n",
        "\n",
        "transform_train = transforms.Compose([\n",
        "    transforms.RandomHorizontalFlip(),\n",
        "    transforms.RandomRotation(10),\n",
        "    transforms.ColorJitter(brightness=0.2, contrast=0.2),\n",
        "    transforms.ToImage(),\n",
        "    transforms.ToDtype(torch.float32, scale=True),\n",
        "    transforms.Normalize(mean=[0.485, 0.456, 0.406], std=[0.229, 0.224, 0.225]),\n",
        "    transforms.RandomErasing(p=0.5, scale=(0.02, 0.2), ratio=(0.3, 3.3)),\n",
        "])"
      ]
    },
    {
      "cell_type": "code",
      "execution_count": 5,
      "metadata": {
        "id": "3ndj_WK9L05K"
      },
      "outputs": [],
      "source": [
        "train_dataset = datasets.CIFAR10(root='./data', train=True, download=True, transform=transform_train)\n",
        "test_dataset = datasets.CIFAR10(root='./data', train=False, download=True, transform=transform_test)\n",
        "\n",
        "train_loader = DataLoader(train_dataset, batch_size=128, shuffle=True, num_workers=3)\n",
        "test_loader = DataLoader(test_dataset, batch_size=128, shuffle=False, num_workers=3)\n"
      ]
    },
    {
      "cell_type": "code",
      "execution_count": 6,
      "metadata": {
        "id": "-lsYIDGYxQDd"
      },
      "outputs": [],
      "source": [
        "class ResNet18_CIFAR10(nn.Module):\n",
        "    def __init__(self, num_classes=10):\n",
        "        super(ResNet18_CIFAR10, self).__init__()\n",
        "        self.model = models.resnet18(weights=models.ResNet18_Weights.DEFAULT)\n",
        "\n",
        "        self.model.conv1 = nn.Conv2d(3, 64, kernel_size=3, stride=1, padding=1, bias=False)\n",
        "        self.model.maxpool = nn.Identity()\n",
        "\n",
        "        self.model.fc = nn.Sequential(\n",
        "            nn.Dropout(p=0.3),\n",
        "            nn.Linear(self.model.fc.in_features, num_classes)\n",
        "        )\n",
        "    \n",
        "    def forward(self, x):\n",
        "        return self.model(x)\n"
      ]
    },
    {
      "cell_type": "code",
      "execution_count": 7,
      "metadata": {
        "id": "fInbRRTNL_Pv"
      },
      "outputs": [],
      "source": [
        "device = torch.device(\"cuda\" if torch.cuda.is_available() else \"cpu\")\n",
        "\n",
        "model = ResNet18_CIFAR10()\n",
        "model = model.to(device)"
      ]
    },
    {
      "cell_type": "code",
      "execution_count": 8,
      "metadata": {
        "id": "LGslyzmCMAzS"
      },
      "outputs": [],
      "source": [
        "criterion = nn.CrossEntropyLoss()\n",
        "\n",
        "# optimizer = optim.Adam(model.parameters(), lr=0.015, weight_decay=1e-3)\n",
        "\n",
        "optimizer = optim.SGD(model.parameters(), lr=0.01, momentum=0.8, weight_decay=1e-3)\n",
        "scheduler = optim.lr_scheduler.StepLR(optimizer, step_size=15, gamma=0.2)"
      ]
    },
    {
      "cell_type": "code",
      "execution_count": null,
      "metadata": {
        "colab": {
          "base_uri": "https://localhost:8080/"
        },
        "id": "DbERnJ5ZMC4L",
        "outputId": "3b5b875f-f7b6-4744-bda1-18bb28ea3258"
      },
      "outputs": [],
      "source": [
        "num_epochs = 10\n",
        "\n",
        "for epoch in range(num_epochs):\n",
        "    model.train()\n",
        "    running_loss = 0.0\n",
        "    all_labels = []\n",
        "    all_predictions = []\n",
        "\n",
        "    for images, labels in train_loader:\n",
        "        images, labels = images.to(device), labels.to(device)\n",
        "\n",
        "        optimizer.zero_grad()\n",
        "        outputs = model(images)\n",
        "        _, predicted = torch.max(outputs, 1)\n",
        "        loss = criterion(outputs, labels)\n",
        "        loss.backward()\n",
        "        optimizer.step()\n",
        "\n",
        "        running_loss += loss.item()\n",
        "        all_labels.extend(labels.cpu().numpy())\n",
        "        all_predictions.extend(predicted.cpu().numpy())\n",
        "\n",
        "    scheduler.step()\n",
        "    \n",
        "    print(f\"Epoch [{epoch+1}/{num_epochs}], Loss: {running_loss/len(train_loader):.4f}\")\n",
        "    print(f\"Precision: {precision_score(all_labels, all_predictions, average='macro', zero_division=1):.2f}\")\n",
        "    print(f\"Recall: {recall_score(all_labels, all_predictions, average='macro', zero_division=1):.2f}\")\n",
        "\n",
        "\n",
        "# import IPython\n",
        "# display(IPython.display.Audio(url=\"https://static.sfdict.com/audio/C07/C0702600.mp3\", autoplay=True))"
      ]
    },
    {
      "cell_type": "code",
      "execution_count": null,
      "metadata": {
        "id": "nDbNlasfMGSr"
      },
      "outputs": [],
      "source": [
        "model.eval()\n",
        "\n",
        "total = 0\n",
        "\n",
        "correct = 0\n",
        "test_loss = 0.0\n",
        "all_labels = []\n",
        "all_predictions = []\n",
        "\n",
        "with torch.no_grad():\n",
        "    for images, labels in test_loader:\n",
        "        images, labels = images.to(device), labels.to(device)\n",
        "        #outputs = model(F.interpolate(images, size=(224, 224), mode=\"bilinear\", align_corners=False))\n",
        "        outputs = model(images)\n",
        "\n",
        "        _, predicted = torch.max(outputs, 1)\n",
        "\n",
        "        criterion = nn.CrossEntropyLoss()\n",
        "        loss = criterion(outputs, labels)\n",
        "        test_loss += loss.item() * labels.size(0)\n",
        "\n",
        "        all_labels.extend(labels.cpu().numpy())\n",
        "        all_predictions.extend(predicted.cpu().numpy())\n",
        "\n",
        "        total += labels.size(0)\n",
        "        correct += (predicted == labels).sum().item()\n",
        "\n",
        "accuracy = 100 * correct / total\n",
        "test_loss = test_loss/total\n",
        "precision = precision_score(all_labels, all_predictions, average='macro', zero_division=1)\n",
        "recall = recall_score(all_labels, all_predictions, average='macro', zero_division=1)\n",
        "\n",
        "print(f\"Test Accuracy: {accuracy:.2f}%\")\n",
        "print(f\"Test Loss: {test_loss:.4f}\")\n",
        "print(f\"Precision: {precision:.2f}\")\n",
        "print(f\"Recall: {recall:.2f}\")"
      ]
    },
    {
      "cell_type": "code",
      "execution_count": null,
      "metadata": {
        "id": "V8_1dybLMIki"
      },
      "outputs": [],
      "source": [
        "def imshow(img, std, mean, t_label, p_label):\n",
        "    mean = torch.tensor(mean).view(3, 1, 1).to(device)\n",
        "    std = torch.tensor(std).view(3, 1, 1).to(device)\n",
        "\n",
        "\n",
        "    img = img * std + mean\n",
        "    img = img.clamp(0, 1)\n",
        "    img = img.permute(1, 2, 0)\n",
        "    npimg = img.cpu().numpy()\n",
        "\n",
        "    plt.imshow(npimg)\n",
        "    plt.axis(\"off\")\n",
        "    plt.show()\n",
        "    print(f\"True label: {labels[t_label]}\")\n",
        "    print(f\"Predicted label: {labels[p_label]}\")\n",
        "\n",
        "cnt = 0\n",
        "\n",
        "labels = ('plane', 'car', 'bird', 'cat', 'deer', 'dog', 'frog', 'horse', 'ship', 'truck')\n",
        "for images, labels_num in test_loader:\n",
        "    images, labels_num = images.to(device), labels_num.to(device)\n",
        "\n",
        "    outputs = model(images)\n",
        "    _, predicted = torch.max(outputs, 1)\n",
        "\n",
        "    cnt += 1\n",
        "\n",
        "    imshow(images[0], mean=[0.485, 0.456, 0.406], std=[0.229, 0.224, 0.225], t_label = labels_num[0].item(), p_label = predicted[0].item())\n",
        "    if cnt == 5:\n",
        "      break"
      ]
    },
    {
      "cell_type": "code",
      "execution_count": 16,
      "metadata": {},
      "outputs": [],
      "source": [
        "torch.save(model.state_dict(), 'model1.pth')"
      ]
    }
  ],
  "metadata": {
    "accelerator": "GPU",
    "colab": {
      "gpuType": "T4",
      "provenance": []
    },
    "kernelspec": {
      "display_name": ".venv",
      "language": "python",
      "name": "python3"
    },
    "language_info": {
      "codemirror_mode": {
        "name": "ipython",
        "version": 3
      },
      "file_extension": ".py",
      "mimetype": "text/x-python",
      "name": "python",
      "nbconvert_exporter": "python",
      "pygments_lexer": "ipython3",
      "version": "3.13.2"
    }
  },
  "nbformat": 4,
  "nbformat_minor": 0
}
