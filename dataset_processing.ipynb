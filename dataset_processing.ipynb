{
 "cells": [
  {
   "cell_type": "markdown",
   "metadata": {},
   "source": [
    "# CIFAR-10 dataset processing\n"
   ]
  },
  {
   "cell_type": "markdown",
   "metadata": {},
   "source": [
    "[Link to the dataset](https://www.cs.toronto.edu/~kriz/cifar-10-python.tar.gz)"
   ]
  },
  {
   "cell_type": "code",
   "execution_count": 1,
   "metadata": {},
   "outputs": [],
   "source": [
    "import pickle\n",
    "import numpy as np\n",
    "from matplotlib import pyplot\n",
    "from torch.utils.data import Dataset"
   ]
  },
  {
   "cell_type": "markdown",
   "metadata": {},
   "source": [
    "### Reading data"
   ]
  },
  {
   "cell_type": "code",
   "execution_count": 2,
   "metadata": {},
   "outputs": [],
   "source": [
    "def unpickle(file):\n",
    "    with open(file, 'rb') as fo:\n",
    "        return pickle.load(fo, encoding='bytes')"
   ]
  },
  {
   "cell_type": "code",
   "execution_count": 3,
   "metadata": {},
   "outputs": [
    {
     "data": {
      "text/plain": [
       "dict_keys([b'batch_label', b'labels', b'data', b'filenames'])"
      ]
     },
     "execution_count": 3,
     "metadata": {},
     "output_type": "execute_result"
    }
   ],
   "source": [
    "batch_test = unpickle('cifar-10-python\\\\cifar-10-batches-py\\\\test_batch')\n",
    "batch_test.keys()"
   ]
  },
  {
   "cell_type": "code",
   "execution_count": 4,
   "metadata": {},
   "outputs": [],
   "source": [
    "def reshape_image(array: np.ndarray) -> np.ndarray:\n",
    "    array = array.reshape(3, 32, 32).transpose([1, 2, 0])\n",
    "    return array\n",
    "\n",
    "def reshape_batch(array: np.ndarray) -> np.ndarray:\n",
    "    array = array.reshape(-1, 3, 32, 32).transpose(0, 2, 3, 1)\n",
    "    return array\n",
    "\n",
    "def show_image(array: np.ndarray) -> None:\n",
    "    pyplot.imshow(array)\n",
    "    pyplot.show()"
   ]
  },
  {
   "cell_type": "markdown",
   "metadata": {},
   "source": [
    "### Dataset image example"
   ]
  },
  {
   "cell_type": "code",
   "execution_count": 5,
   "metadata": {},
   "outputs": [
    {
     "data": {
      "image/png": "[encoded data removed]",
      "text/plain": [
       "<Figure size 640x480 with 1 Axes>"
      ]
     },
     "metadata": {},
     "output_type": "display_data"
    }
   ],
   "source": [
    "image = batch_test[b'data'][4]\n",
    "image = reshape_image(image)\n",
    "show_image(image)"
   ]
  },
  {
   "cell_type": "markdown",
   "metadata": {},
   "source": [
    "### Dataset preprocessing\n"
   ]
  },
  {
   "cell_type": "code",
   "execution_count": 6,
   "metadata": {},
   "outputs": [
    {
     "data": {
      "text/plain": [
       "dict_keys([b'num_cases_per_batch', b'label_names', b'num_vis'])"
      ]
     },
     "execution_count": 6,
     "metadata": {},
     "output_type": "execute_result"
    }
   ],
   "source": [
    "dataset_meta = unpickle('cifar-10-python\\\\cifar-10-batches-py\\\\batches.meta')\n",
    "dataset_meta.keys()"
   ]
  },
  {
   "cell_type": "code",
   "execution_count": 7,
   "metadata": {},
   "outputs": [
    {
     "data": {
      "text/plain": [
       "[b'airplane',\n",
       " b'automobile',\n",
       " b'bird',\n",
       " b'cat',\n",
       " b'deer',\n",
       " b'dog',\n",
       " b'frog',\n",
       " b'horse',\n",
       " b'ship',\n",
       " b'truck']"
      ]
     },
     "execution_count": 7,
     "metadata": {},
     "output_type": "execute_result"
    }
   ],
   "source": [
    "dataset_meta[b'label_names']"
   ]
  },
  {
   "cell_type": "code",
   "execution_count": 8,
   "metadata": {},
   "outputs": [],
   "source": [
    "batch_1 = unpickle('cifar-10-python\\\\cifar-10-batches-py\\\\data_batch_1')\n",
    "batch_2 = unpickle('cifar-10-python\\\\cifar-10-batches-py\\\\data_batch_2')\n",
    "batch_3 = unpickle('cifar-10-python\\\\cifar-10-batches-py\\\\data_batch_3')\n",
    "batch_4 = unpickle('cifar-10-python\\\\cifar-10-batches-py\\\\data_batch_4')\n",
    "batch_5 = unpickle('cifar-10-python\\\\cifar-10-batches-py\\\\data_batch_5')\n",
    "\n",
    "batch_1[b'data'] = reshape_batch(batch_1[b'data'])\n",
    "batch_2[b'data'] = reshape_batch(batch_2[b'data'])\n",
    "batch_3[b'data'] = reshape_batch(batch_3[b'data'])\n",
    "batch_4[b'data'] = reshape_batch(batch_4[b'data'])\n",
    "batch_5[b'data'] = reshape_batch(batch_5[b'data'])\n",
    "\n",
    "batch_test[b'data'] = reshape_batch(batch_test[b'data'])"
   ]
  },
  {
   "cell_type": "code",
   "execution_count": 13,
   "metadata": {},
   "outputs": [],
   "source": [
    "class CifarDataset(Dataset):\n",
    "    def __init__(self, batches: list[dict]):\n",
    "        super().__init__()\n",
    "        self.batches = batches\n",
    "        self.batch_size = batches[0][b\"data\"].shape[0]\n",
    "\n",
    "    def __len__(self):\n",
    "        return self.batch_size * len(self.batches)\n",
    "\n",
    "    def __getitem__(self, index):\n",
    "        batch_index = index // self.batch_size\n",
    "        item_index = index % self.batch_size\n",
    "        image = self.batches[batch_index][b'data'][item_index]\n",
    "        label = self.batches[batch_index][b'labels'][item_index]\n",
    "        return image, label\n",
    "\n",
    "\n",
    "train_dataset = CifarDataset(batches=[\n",
    "    batch_1,\n",
    "    batch_2,\n",
    "    batch_3,\n",
    "    batch_4,\n",
    "    batch_5\n",
    "])\n",
    "test_dataset = CifarDataset(batches=[\n",
    "    batch_test\n",
    "])"
   ]
  }
 ],
 "metadata": {
  "kernelspec": {
   "display_name": ".venv",
   "language": "python",
   "name": "python3"
  },
  "language_info": {
   "codemirror_mode": {
    "name": "ipython",
    "version": 3
   },
   "file_extension": ".py",
   "mimetype": "text/x-python",
   "name": "python",
   "nbconvert_exporter": "python",
   "pygments_lexer": "ipython3",
   "version": "3.12.5"
  }
 },
 "nbformat": 4,
 "nbformat_minor": 2
}
